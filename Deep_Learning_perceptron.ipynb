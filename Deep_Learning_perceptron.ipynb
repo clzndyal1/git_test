{
  "nbformat": 4,
  "nbformat_minor": 0,
  "metadata": {
    "colab": {
      "provenance": [],
      "authorship_tag": "ABX9TyNEGmG0E2lBWFyBC5X7Iyf0",
      "include_colab_link": true
    },
    "kernelspec": {
      "name": "python3",
      "display_name": "Python 3"
    },
    "language_info": {
      "name": "python"
    }
  },
  "cells": [
    {
      "cell_type": "markdown",
      "metadata": {
        "id": "view-in-github",
        "colab_type": "text"
      },
      "source": [
        "<a href=\"https://colab.research.google.com/github/clzndyal1/git_test/blob/master/Deep_Learning_perceptron.ipynb\" target=\"_parent\"><img src=\"https://colab.research.google.com/assets/colab-badge.svg\" alt=\"Open In Colab\"/></a>"
      ]
    },
    {
      "cell_type": "code",
      "execution_count": 2,
      "metadata": {
        "id": "elFRROAXRVko"
      },
      "outputs": [],
      "source": [
        "import numpy as np"
      ]
    },
    {
      "cell_type": "code",
      "source": [
        "#다층 퍼셉트론으로 XOR문제 해결하기\n",
        "#가중치와 바이어스\n",
        "\n",
        "w11 = np.array([-2,-2])\n",
        "w12 = np.array([2,2])\n",
        "w2 = np.array([1,1])\n",
        "b1 = 3\n",
        "b2 = -1\n",
        "b3 = -1\n",
        "\n",
        "#퍼셉트론 함수\n",
        "def MLP(x, w, b):\n",
        "  y = np.sum(w * x) + b\n",
        "  if y <= 0:\n",
        "    return 0\n",
        "  else:\n",
        "    return 1\n",
        "\n",
        "#NAND게이트\n",
        "def NAND(x1, x2):\n",
        "  return MLP(np.array([x1,x2]), w11, b1)\n",
        "\n",
        "#OR게이트\n",
        "def OR(x1, x2):\n",
        "  return MLP(np.array([x1, x2]), w12, b2)\n",
        "\n",
        "#AND게이트\n",
        "def AND(x1, x2):\n",
        "  return MLP(np.array([x1, x2]), w2, b3)\n",
        "\n",
        "#XOR게이트\n",
        "def XOR(x1, x2):\n",
        "  return AND(NAND(x1, x2), OR(x1, x2))\n",
        "\n",
        "for x in [(0, 0), (1,0), (0,1), (1,1)]:\n",
        "  y = XOR(x[0], x[1])\n",
        "  print('입력값 : ' + str(x) + ' 출력값 : ' +str(y))"
      ],
      "metadata": {
        "colab": {
          "base_uri": "https://localhost:8080/"
        },
        "id": "WbHY4mQzbCWm",
        "outputId": "fb80e45f-afb2-42aa-cadb-5e82b2e94edd"
      },
      "execution_count": 3,
      "outputs": [
        {
          "output_type": "stream",
          "name": "stdout",
          "text": [
            "입력값 : (0, 0) 출력값 : 0\n",
            "입력값 : (1, 0) 출력값 : 1\n",
            "입력값 : (0, 1) 출력값 : 1\n",
            "입력값 : (1, 1) 출력값 : 0\n"
          ]
        }
      ]
    },
    {
      "cell_type": "code",
      "source": [
        "#폐암 수술 후 1년이내에 사망자와 생존자의 자료를 가지고 학습\n",
        "# np.loadtxt('./data/ThoraricSugery3.csv', delimiter ='')\n",
        "# HIDDEN LAYER는 2개중 -> 처음 node수가 30개, 두번째 10개\n",
        "# 적절한 활성함수 사용\n",
        "# 손실함수와 옵티마이저를 shd, adam을 사용해서 결과 비교\n",
        "from tensorflow.keras.models import Sequential\n",
        "from tensorflow.keras.layers import Dense \n",
        "\n",
        "import numpy as np\n",
        "\n",
        "!git clone https://github.com/taehojo/data.git\n",
        "\n",
        "#준비된 수술 환자 데이터\n",
        "Data_set = np.loadtxt(\"./data/ThoraricSurgery3.csv\", delimiter=\",\")\n",
        "\n",
        "X = Data_set[:,0:16]   #환자의 진찰 기록을 X로 지정합니다.\n",
        "y = Data_set[:, 16]   #수술 1년 후 사망/생존 여부를 y로 지정합니다.\n",
        "\n",
        "#딥러닝 모델의 구조를 결정합니다.\n",
        "model = Sequential()\n",
        "model.add(Dense(30, input_dim = 16, activation='relu'))\n",
        "model.add(Dense(1, activation='sigmoid'))\n",
        "\n",
        "#딥러닝 모델을 실행합니다.\n",
        "model.compile(loss='binary_crossentropy', optimizer='adam', metrics=['accuracy'])\n",
        "history = model.fit(X, y, epochs=5, batch_size=16)\n"
      ],
      "metadata": {
        "colab": {
          "base_uri": "https://localhost:8080/"
        },
        "id": "hTJuh-fMSp2j",
        "outputId": "8a9610bd-cb09-47b9-e18b-1b8c2b073567"
      },
      "execution_count": 18,
      "outputs": [
        {
          "output_type": "stream",
          "name": "stdout",
          "text": [
            "fatal: destination path 'data' already exists and is not an empty directory.\n",
            "Epoch 1/5\n",
            "30/30 [==============================] - 1s 2ms/step - loss: 6.3432 - accuracy: 0.1660\n",
            "Epoch 2/5\n",
            "30/30 [==============================] - 0s 2ms/step - loss: 0.6533 - accuracy: 0.7787\n",
            "Epoch 3/5\n",
            "30/30 [==============================] - 0s 2ms/step - loss: 0.5456 - accuracy: 0.8511\n",
            "Epoch 4/5\n",
            "30/30 [==============================] - 0s 2ms/step - loss: 0.4997 - accuracy: 0.8468\n",
            "Epoch 5/5\n",
            "30/30 [==============================] - 0s 2ms/step - loss: 0.4974 - accuracy: 0.8511\n"
          ]
        }
      ]
    },
    {
      "cell_type": "code",
      "source": [
        "# 폐암 수술 후 1년이내에 사망자와 생존자의 자료를 가지고 학습\n",
        "# np.loadtxt(\"./data/ThoraricSurgery3.csv\", delimiter='')\n",
        "# 1. HIDDEN LAYER는 2개층 -> 처음 node수가 30개, 두번째 10개\n",
        "# 2. 적절한 활성함수 사용\n",
        "# 3. 손실함수와 옵티마이저를 sgd, adam을 사용해서 결과 비교 \n",
        " \n",
        "data = np.loadtxt('./data/ThoraricSurgery3.csv', delimiter=',')\n",
        "x = data[:, 0:-1]  # x 요소  , 마지막 자료는 target\n",
        "y = data[:, -1]   # target \n"
      ],
      "metadata": {
        "id": "yQXbyXKLe0V2"
      },
      "execution_count": 20,
      "outputs": []
    },
    {
      "cell_type": "code",
      "source": [
        "# 1. hidden layer 는 2개층 -> 처음 node수가 30개, 두번째 10개\n",
        "# 2. 적절한 활성함수 사용'\n",
        "def make_model(input_dim):\n",
        "    model = Sequential()\n",
        "    model.add(Dense(30, input_dim=input_dim, activation='relu'))  # 처음은 input_dim 필요\n",
        "    # 두번째 layer부터는 input_dim 필요 없음, 이전 layer의 out node의 개수가 input_dim 수 \n",
        "    model.add(Dense(10, activation='relu'))   \n",
        "    model.add(Dense(1, activation='sigmoid'))\n",
        "    \n",
        "    return model\n",
        "\n",
        "# 3. 손실함수와 옵티마이저를 sgd, adam을 사용해서 결과 비교 \n",
        "model1 = make_model(x.shape[1])\n",
        "model1.compile(loss='binary_crossentropy', optimizer='sgd',metrics=['accuracy'])\n",
        "\n",
        "# 모델 학습\n",
        "model1.fit(x,y,epochs=2000, verbose=False)"
      ],
      "metadata": {
        "colab": {
          "base_uri": "https://localhost:8080/"
        },
        "id": "-1m9GZzRcnzJ",
        "outputId": "5758b1e6-77c9-4084-8611-a164d4b5f9f0"
      },
      "execution_count": 21,
      "outputs": [
        {
          "output_type": "execute_result",
          "data": {
            "text/plain": [
              "<keras.callbacks.History at 0x7f16a9c5b280>"
            ]
          },
          "metadata": {},
          "execution_count": 21
        }
      ]
    },
    {
      "cell_type": "code",
      "source": [
        "print(model1.history.history['loss'][-1])  # 마지감 손실함수의 값 출력\n",
        "# 데이터 예측\n",
        "predict_result = model1.predict(x[-1].reshape(1,-1))\n",
        "print(f\"실제 값 :{y[-1]},  예측 값 : {predict_result }\")"
      ],
      "metadata": {
        "colab": {
          "base_uri": "https://localhost:8080/"
        },
        "id": "vyzwc1ZWfg1C",
        "outputId": "9c926cef-8dc4-4f22-c799-03e4b81ebbfe"
      },
      "execution_count": 22,
      "outputs": [
        {
          "output_type": "stream",
          "name": "stdout",
          "text": [
            "0.37769556045532227\n",
            "1/1 [==============================] - 0s 92ms/step\n",
            "실제 값 :0.0,  예측 값 : [[0.08675532]]\n"
          ]
        }
      ]
    },
    {
      "cell_type": "code",
      "source": [
        "model2 = make_model(x.shape[1])\n",
        "model2.compile(loss='binary_crossentropy', optimizer='adam',metrics=['accuracy'])\n",
        "\n",
        "# 모델 학습\n",
        "model2.fit(x,y,epochs=2000, verbose=False)\n",
        "print(model2.history.history['loss'][-1])  # 마지감 손실함수의 값 출력\n",
        "# 데이터 예측\n",
        "predict_result = model2.predict(x[-1].reshape(1,-1))\n",
        "print(f\"실제 값 :{y[-1]},  예측 값 : {predict_result }\")"
      ],
      "metadata": {
        "colab": {
          "base_uri": "https://localhost:8080/"
        },
        "id": "uRv3IllifwGV",
        "outputId": "b178c79f-7ded-417a-cc34-cf1d4f2dcc09"
      },
      "execution_count": 23,
      "outputs": [
        {
          "output_type": "stream",
          "name": "stdout",
          "text": [
            "0.33212223649024963\n",
            "1/1 [==============================] - 0s 64ms/step\n",
            "실제 값 :0.0,  예측 값 : [[0.02698353]]\n"
          ]
        }
      ]
    },
    {
      "cell_type": "code",
      "source": [],
      "metadata": {
        "id": "RVK3BzOHfyjq"
      },
      "execution_count": null,
      "outputs": []
    }
  ]
}