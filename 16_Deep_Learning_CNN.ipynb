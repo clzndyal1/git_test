{
  "nbformat": 4,
  "nbformat_minor": 0,
  "metadata": {
    "colab": {
      "provenance": [],
      "authorship_tag": "ABX9TyPlUCD8IDubEI8ERg7KePoA",
      "include_colab_link": true
    },
    "kernelspec": {
      "name": "python3",
      "display_name": "Python 3"
    },
    "language_info": {
      "name": "python"
    }
  },
  "cells": [
    {
      "cell_type": "markdown",
      "metadata": {
        "id": "view-in-github",
        "colab_type": "text"
      },
      "source": [
        "<a href=\"https://colab.research.google.com/github/clzndyal1/git_test/blob/master/16_Deep_Learning_CNN.ipynb\" target=\"_parent\"><img src=\"https://colab.research.google.com/assets/colab-badge.svg\" alt=\"Open In Colab\"/></a>"
      ]
    },
    {
      "cell_type": "code",
      "source": [
        "from tensorflow.keras.models import Sequential, load_model\n",
        "from tensorflow.keras.layers import Dense\n",
        "from sklearn.model_selection import KFold\n",
        "from sklearn.model_selection import train_test_split\n",
        "from tensorflow.keras.callbacks import ModelCheckpoint\n",
        "from tensorflow.keras.callbacks import EarlyStopping\n",
        "from tensorflow.keras.datasets import mnist\n",
        "from tensorflow.keras.utils import to_categorical  #one-hot encoding과 같은 결과 반환\n",
        "\n",
        "\n",
        "import numpy as np\n",
        "import pandas as pd\n",
        "import matplotlib.pyplot as plt\n",
        "import seaborn as sns\n",
        "import sys"
      ],
      "metadata": {
        "id": "mnmQvv5LaAvB"
      },
      "execution_count": 43,
      "outputs": []
    },
    {
      "cell_type": "code",
      "source": [
        "(X_train, y_train), (X_test, y_test) = mnist.load_data()"
      ],
      "metadata": {
        "id": "Phq4WnqUbdDw"
      },
      "execution_count": 44,
      "outputs": []
    },
    {
      "cell_type": "code",
      "source": [
        "print(X_train.shape, X_test.shape)"
      ],
      "metadata": {
        "colab": {
          "base_uri": "https://localhost:8080/"
        },
        "id": "G074NPSkchmW",
        "outputId": "65722e39-de82-41af-cfb4-60ccc0a0c1b4"
      },
      "execution_count": 45,
      "outputs": [
        {
          "output_type": "stream",
          "name": "stdout",
          "text": [
            "(60000, 28, 28) (10000, 28, 28)\n"
          ]
        }
      ]
    },
    {
      "cell_type": "code",
      "source": [
        "print('학습셋 이미지 수 : %d개'% (X_train.shape[0]))\n",
        "print('테스트셋 이미지 수 : %d개'% (X_test.shape[0]))"
      ],
      "metadata": {
        "colab": {
          "base_uri": "https://localhost:8080/"
        },
        "id": "c9HM8pFHb5UP",
        "outputId": "9949d788-4611-4402-890c-d73744bf742c"
      },
      "execution_count": 46,
      "outputs": [
        {
          "output_type": "stream",
          "name": "stdout",
          "text": [
            "학습셋 이미지 수 : 60000개\n",
            "테스트셋 이미지 수 : 10000개\n"
          ]
        }
      ]
    },
    {
      "cell_type": "code",
      "source": [
        "plt.imshow(X_train[0], cmap='Greys')\n",
        "plt.show()"
      ],
      "metadata": {
        "colab": {
          "base_uri": "https://localhost:8080/",
          "height": 430
        },
        "id": "pkk30Mn1cJSO",
        "outputId": "7edacf28-c2ab-4820-c10c-263b15d13594"
      },
      "execution_count": 47,
      "outputs": [
        {
          "output_type": "display_data",
          "data": {
            "text/plain": [
              "<Figure size 640x480 with 1 Axes>"
            ],
            "image/png": "[encoded data removed]"
          },
          "metadata": {}
        }
      ]
    },
    {
      "cell_type": "code",
      "source": [
        "#처음에 나오는 이미지의 자료를 화면에 출력\n",
        "\n",
        "for x in X_train[0]:\n",
        "  for i in x:\n",
        "    print(f'{i:3d}', end='')\n",
        "  print()"
      ],
      "metadata": {
        "colab": {
          "base_uri": "https://localhost:8080/"
        },
        "id": "-wSmrV10ctke",
        "outputId": "82159c62-2c9d-4fe4-bbc5-4757deb35abe"
      },
      "execution_count": 48,
      "outputs": [
        {
          "output_type": "stream",
          "name": "stdout",
          "text": [
            "  0  0  0  0  0  0  0  0  0  0  0  0  0  0  0  0  0  0  0  0  0  0  0  0  0  0  0  0\n",
            "  0  0  0  0  0  0  0  0  0  0  0  0  0  0  0  0  0  0  0  0  0  0  0  0  0  0  0  0\n",
            "  0  0  0  0  0  0  0  0  0  0  0  0  0  0  0  0  0  0  0  0  0  0  0  0  0  0  0  0\n",
            "  0  0  0  0  0  0  0  0  0  0  0  0  0  0  0  0  0  0  0  0  0  0  0  0  0  0  0  0\n",
            "  0  0  0  0  0  0  0  0  0  0  0  0  0  0  0  0  0  0  0  0  0  0  0  0  0  0  0  0\n",
            "  0  0  0  0  0  0  0  0  0  0  0  0  3 18 18 18126136175 26166255247127  0  0  0  0\n",
            "  0  0  0  0  0  0  0  0 30 36 94154170253253253253253225172253242195 64  0  0  0  0\n",
            "  0  0  0  0  0  0  0 49238253253253253253253253253251 93 82 82 56 39  0  0  0  0  0\n",
            "  0  0  0  0  0  0  0 18219253253253253253198182247241  0  0  0  0  0  0  0  0  0  0\n",
            "  0  0  0  0  0  0  0  0 80156107253253205 11  0 43154  0  0  0  0  0  0  0  0  0  0\n",
            "  0  0  0  0  0  0  0  0  0 14  1154253 90  0  0  0  0  0  0  0  0  0  0  0  0  0  0\n",
            "  0  0  0  0  0  0  0  0  0  0  0139253190  2  0  0  0  0  0  0  0  0  0  0  0  0  0\n",
            "  0  0  0  0  0  0  0  0  0  0  0 11190253 70  0  0  0  0  0  0  0  0  0  0  0  0  0\n",
            "  0  0  0  0  0  0  0  0  0  0  0  0 35241225160108  1  0  0  0  0  0  0  0  0  0  0\n",
            "  0  0  0  0  0  0  0  0  0  0  0  0  0 81240253253119 25  0  0  0  0  0  0  0  0  0\n",
            "  0  0  0  0  0  0  0  0  0  0  0  0  0  0 45186253253150 27  0  0  0  0  0  0  0  0\n",
            "  0  0  0  0  0  0  0  0  0  0  0  0  0  0  0 16 93252253187  0  0  0  0  0  0  0  0\n",
            "  0  0  0  0  0  0  0  0  0  0  0  0  0  0  0  0  0249253249 64  0  0  0  0  0  0  0\n",
            "  0  0  0  0  0  0  0  0  0  0  0  0  0  0 46130183253253207  2  0  0  0  0  0  0  0\n",
            "  0  0  0  0  0  0  0  0  0  0  0  0 39148229253253253250182  0  0  0  0  0  0  0  0\n",
            "  0  0  0  0  0  0  0  0  0  0 24114221253253253253201 78  0  0  0  0  0  0  0  0  0\n",
            "  0  0  0  0  0  0  0  0 23 66213253253253253198 81  2  0  0  0  0  0  0  0  0  0  0\n",
            "  0  0  0  0  0  0 18171219253253253253195 80  9  0  0  0  0  0  0  0  0  0  0  0  0\n",
            "  0  0  0  0 55172226253253253253244133 11  0  0  0  0  0  0  0  0  0  0  0  0  0  0\n",
            "  0  0  0  0136253253253212135132 16  0  0  0  0  0  0  0  0  0  0  0  0  0  0  0  0\n",
            "  0  0  0  0  0  0  0  0  0  0  0  0  0  0  0  0  0  0  0  0  0  0  0  0  0  0  0  0\n",
            "  0  0  0  0  0  0  0  0  0  0  0  0  0  0  0  0  0  0  0  0  0  0  0  0  0  0  0  0\n",
            "  0  0  0  0  0  0  0  0  0  0  0  0  0  0  0  0  0  0  0  0  0  0  0  0  0  0  0  0\n"
          ]
        }
      ]
    },
    {
      "cell_type": "code",
      "source": [
        "#데이터 차원 변경\n",
        "#데이터 정규화\n",
        "\n",
        "X_train = X_train.reshape(X_train.shape[0], 784)   #X_train.shape[0] -> 갯수  (28 * 28 = 784)\n",
        "\n",
        "print(X_train.shape)  #60000 *784\n",
        "# X_train = X_train.astype('float64')\n",
        "# X_train = X_train / 255"
      ],
      "metadata": {
        "colab": {
          "base_uri": "https://localhost:8080/"
        },
        "id": "yGAJOK7xeUK1",
        "outputId": "d6853a16-feb8-460a-f02a-3205adf29495"
      },
      "execution_count": 49,
      "outputs": [
        {
          "output_type": "stream",
          "name": "stdout",
          "text": [
            "(60000, 784)\n"
          ]
        }
      ]
    },
    {
      "cell_type": "code",
      "source": [
        "# X_test = X_test.reshape(X_test.shape[0], 784).astype('float64') / 255\n",
        "X_test = X_test.reshape(X_test.shape[0], 784)\n",
        "print(X_test.shape)"
      ],
      "metadata": {
        "colab": {
          "base_uri": "https://localhost:8080/"
        },
        "id": "5SG9z_87fbOd",
        "outputId": "207faedb-c807-4064-fce4-ba929dc34d45"
      },
      "execution_count": 50,
      "outputs": [
        {
          "output_type": "stream",
          "name": "stdout",
          "text": [
            "(10000, 784)\n"
          ]
        }
      ]
    },
    {
      "cell_type": "code",
      "source": [
        "#데이터 정규화\n",
        "\n",
        "X_train = X_train.astype('float64') / 255\n",
        "X_test = X_test.astype('float64') / 255\n",
        "\n",
        "# X_train = X_train.reshape(X_test.shape[0], 784).astype('float64') / 255\n",
        "# X_test = X_test.reshape(X_test.shape[0], 784).astype('float64') / 255"
      ],
      "metadata": {
        "id": "ShPxRC3GfzDE"
      },
      "execution_count": 51,
      "outputs": []
    },
    {
      "cell_type": "code",
      "source": [
        "#y값의 클래스를 확인\n",
        "print('class : ', y_train[0])\n",
        "\n",
        "print(y_train[:10])  #카테고리 데이터로 변경\n",
        "\n",
        "y_train = to_categorical(y_train, 10)\n",
        "y_train[:10]"
      ],
      "metadata": {
        "colab": {
          "base_uri": "https://localhost:8080/"
        },
        "id": "uTjkdhhGf4qN",
        "outputId": "8b72f164-276d-4588-8dd9-66badc560863"
      },
      "execution_count": 52,
      "outputs": [
        {
          "output_type": "stream",
          "name": "stdout",
          "text": [
            "class :  5\n",
            "[5 0 4 1 9 2 1 3 1 4]\n"
          ]
        },
        {
          "output_type": "execute_result",
          "data": {
            "text/plain": [
              "array([[0., 0., 0., 0., 0., 1., 0., 0., 0., 0.],\n",
              "       [1., 0., 0., 0., 0., 0., 0., 0., 0., 0.],\n",
              "       [0., 0., 0., 0., 1., 0., 0., 0., 0., 0.],\n",
              "       [0., 1., 0., 0., 0., 0., 0., 0., 0., 0.],\n",
              "       [0., 0., 0., 0., 0., 0., 0., 0., 0., 1.],\n",
              "       [0., 0., 1., 0., 0., 0., 0., 0., 0., 0.],\n",
              "       [0., 1., 0., 0., 0., 0., 0., 0., 0., 0.],\n",
              "       [0., 0., 0., 1., 0., 0., 0., 0., 0., 0.],\n",
              "       [0., 1., 0., 0., 0., 0., 0., 0., 0., 0.],\n",
              "       [0., 0., 0., 0., 1., 0., 0., 0., 0., 0.]], dtype=float32)"
            ]
          },
          "metadata": {},
          "execution_count": 52
        }
      ]
    },
    {
      "cell_type": "code",
      "source": [
        "#지금까지의 과정을 하나로 생성\n",
        "\n",
        "#1. mnist 데이터를 train과 test데이터로 load함\n",
        "(X_train, y_train), (X_test, y_test) = mnist.load_data()\n",
        "\n",
        "print('학습셋 이미지 수: %d개'% (X_train.shape[0]))\n",
        "print('테스트셋 이미지 수: %d개'% (X_test.shape[0]))\n",
        "\n",
        "#2. X_train과 x_test의 데이터를 차원 변경 후 정규화\n",
        "X_train = X_train.reshape(X_train.shape[0], 784).astype('float32') / 255\n",
        "X_test = X_test.reshape(X_test.shape[0], 784).astype('float32') / 255\n",
        "\n",
        "#3. y의 값을 분류 데이터로 변환  -> one-hot encoding,  to_categorical(클래스, 클래스갯수)\n",
        "y_train = to_categorical(y_train, 10)\n",
        "y_test = to_categorical(y_test, 10)"
      ],
      "metadata": {
        "colab": {
          "base_uri": "https://localhost:8080/"
        },
        "id": "DnywjfF7g9H1",
        "outputId": "cd333185-d6c5-4a69-bf27-96ff4a116446"
      },
      "execution_count": 54,
      "outputs": [
        {
          "output_type": "stream",
          "name": "stdout",
          "text": [
            "학습셋 이미지 수: 60000개\n",
            "테스트셋 이미지 수: 10000개\n"
          ]
        }
      ]
    },
    {
      "cell_type": "code",
      "source": [
        "#딥러닝 모델 실행\n",
        "\n",
        "model = Sequential()\n",
        "model.add(Dense(512, input_dim=784, activation='relu'))\n",
        "model.add(Dense(10, activation='softmax'))\n",
        "model.compile(loss='categorical_crossentropy', optimizer='adam', metrics=['accuracy'])\n",
        "\n",
        "#model 최적화를 위한 설정\n",
        "model_path='./data/model/MNIST_MLP.hdf5'\n",
        "checkpointer = ModelCheckpoint(filepath=model_path, monitor='val_loss', verbose=1, save_best_only=True)\n",
        "early_stopping = EarlyStopping(monitor='val_loss', patience=10)\n",
        "hist = model.fit(X_train, y_train, epochs=2000, validation_split=0.25, batch_size=200, verbose=0,\n",
        "                 callbacks=[early_stopping, checkpointer])\n",
        "\n",
        "#테스트 정확도 출력\n",
        "print('Test accuracy : ', model.evaluate(X_test, y_test)[1])"
      ],
      "metadata": {
        "colab": {
          "base_uri": "https://localhost:8080/"
        },
        "id": "1gE4ahw3mWPV",
        "outputId": "e2ef04ff-0794-41db-ba42-486f38d384af"
      },
      "execution_count": 61,
      "outputs": [
        {
          "output_type": "stream",
          "name": "stdout",
          "text": [
            "\n",
            "Epoch 1: val_loss improved from inf to 0.18253, saving model to ./data/model/MNIST_MLP.hdf5\n",
            "\n",
            "Epoch 2: val_loss improved from 0.18253 to 0.13625, saving model to ./data/model/MNIST_MLP.hdf5\n",
            "\n",
            "Epoch 3: val_loss improved from 0.13625 to 0.11513, saving model to ./data/model/MNIST_MLP.hdf5\n",
            "\n",
            "Epoch 4: val_loss improved from 0.11513 to 0.09657, saving model to ./data/model/MNIST_MLP.hdf5\n",
            "\n",
            "Epoch 5: val_loss improved from 0.09657 to 0.09211, saving model to ./data/model/MNIST_MLP.hdf5\n",
            "\n",
            "Epoch 6: val_loss improved from 0.09211 to 0.08848, saving model to ./data/model/MNIST_MLP.hdf5\n",
            "\n",
            "Epoch 7: val_loss improved from 0.08848 to 0.08489, saving model to ./data/model/MNIST_MLP.hdf5\n",
            "\n",
            "Epoch 8: val_loss did not improve from 0.08489\n",
            "\n",
            "Epoch 9: val_loss improved from 0.08489 to 0.08465, saving model to ./data/model/MNIST_MLP.hdf5\n",
            "\n",
            "Epoch 10: val_loss improved from 0.08465 to 0.08131, saving model to ./data/model/MNIST_MLP.hdf5\n",
            "\n",
            "Epoch 11: val_loss did not improve from 0.08131\n",
            "\n",
            "Epoch 12: val_loss did not improve from 0.08131\n",
            "\n",
            "Epoch 13: val_loss did not improve from 0.08131\n",
            "\n",
            "Epoch 14: val_loss did not improve from 0.08131\n",
            "\n",
            "Epoch 15: val_loss did not improve from 0.08131\n",
            "\n",
            "Epoch 16: val_loss did not improve from 0.08131\n",
            "\n",
            "Epoch 17: val_loss did not improve from 0.08131\n",
            "\n",
            "Epoch 18: val_loss did not improve from 0.08131\n",
            "\n",
            "Epoch 19: val_loss did not improve from 0.08131\n",
            "\n",
            "Epoch 20: val_loss did not improve from 0.08131\n",
            "313/313 [==============================] - 1s 3ms/step - loss: 0.0712 - accuracy: 0.9809\n",
            "Test accuracy :  0.98089998960495\n"
          ]
        }
      ]
    },
    {
      "cell_type": "code",
      "source": [
        "#실행된 결과를 그래프로 표현\n",
        "\n",
        "y_vloss = hist.history['val_loss']   #검증된 자료의 오차\n",
        "y_loss = hist.history['loss']    #학습셋의 오차\n",
        "\n",
        "x_len = np.arange(len(y_loss))\n",
        "plt.plot(x_len, y_vloss, marker='.', c='r', label='Test loss')\n",
        "plt.plot(x_len, y_loss, marker='.', c='b', label='Train loss')\n",
        "plt.legend()\n",
        "plt.xlabel('epoch')\n",
        "plt.ylabel('loss')\n",
        "plt.show()"
      ],
      "metadata": {
        "colab": {
          "base_uri": "https://localhost:8080/",
          "height": 449
        },
        "id": "a2Rxb4bTqECt",
        "outputId": "cfa534b9-8c94-49fb-97a8-9419b588d03d"
      },
      "execution_count": 62,
      "outputs": [
        {
          "output_type": "display_data",
          "data": {
            "text/plain": [
              "<Figure size 640x480 with 1 Axes>"
            ],
            "image/png": "[encoded data removed]"
          },
          "metadata": {}
        }
      ]
    },
    {
      "cell_type": "code",
      "source": [],
      "metadata": {
        "id": "mPMeBLj2y_-T"
      },
      "execution_count": null,
      "outputs": []
    }
  ]
}