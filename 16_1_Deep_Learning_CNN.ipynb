{
  "nbformat": 4,
  "nbformat_minor": 0,
  "metadata": {
    "colab": {
      "provenance": [],
      "authorship_tag": "ABX9TyNFIWoKvwMclZQdEgp9yjWJ",
      "include_colab_link": true
    },
    "kernelspec": {
      "name": "python3",
      "display_name": "Python 3"
    },
    "language_info": {
      "name": "python"
    }
  },
  "cells": [
    {
      "cell_type": "markdown",
      "metadata": {
        "id": "view-in-github",
        "colab_type": "text"
      },
      "source": [
        "<a href=\"https://colab.research.google.com/github/clzndyal1/git_test/blob/master/16_1_Deep_Learning_CNN.ipynb\" target=\"_parent\"><img src=\"https://colab.research.google.com/assets/colab-badge.svg\" alt=\"Open In Colab\"/></a>"
      ]
    },
    {
      "cell_type": "code",
      "execution_count": 17,
      "metadata": {
        "id": "r0fMexiO4EuF"
      },
      "outputs": [],
      "source": [
        "from tensorflow.keras.models import Sequential, load_model\n",
        "from tensorflow.keras.layers import Dense, Dropout, Flatten, Conv2D, MaxPooling2D\n",
        "from sklearn.model_selection import KFold\n",
        "from sklearn.model_selection import train_test_split\n",
        "from tensorflow.keras.callbacks import ModelCheckpoint\n",
        "from tensorflow.keras.callbacks import EarlyStopping\n",
        "from tensorflow.keras.datasets import mnist\n",
        "from tensorflow.keras.utils import to_categorical  #one-hot encoding과 같은 결과 반환\n",
        "\n",
        "\n",
        "import numpy as np\n",
        "import pandas as pd\n",
        "import matplotlib.pyplot as plt\n",
        "import seaborn as sns\n",
        "import sys"
      ]
    },
    {
      "cell_type": "code",
      "source": [
        "#mnist 데이터셋 로드\n",
        "\n",
        "(X_train, y_train), (X_test, y_test) = mnist.load_data()"
      ],
      "metadata": {
        "id": "SsMLl9414dCm"
      },
      "execution_count": 18,
      "outputs": []
    },
    {
      "cell_type": "code",
      "source": [
        "#CNN을 실행하기 위해 데이터 reshape()\n",
        "X_train = X_train.reshape(X_train.shape[0], 28, 28, 1).astype('float32') / 255\n",
        "X_test = X_test.reshape(X_test.shape[0], 28, 28, 1).astype('float32') / 255\n",
        "\n",
        "y_train = to_categorical(y_train, 10)\n",
        "y_test = to_categorical(y_test, 10)"
      ],
      "metadata": {
        "id": "E0qLQAWs4rFx"
      },
      "execution_count": 19,
      "outputs": []
    },
    {
      "cell_type": "code",
      "source": [
        "#CNN 신경망 설정\n",
        "model = Sequential()\n",
        "model.add(Conv2D(32, (3, 3), input_shape=(28,28,1), activation='relu'))  #커널갯수:32, 사이즈 (3,3)\n",
        "model.add(Conv2D(64, (3, 3), activation='relu'))  #커널 64개\n",
        "model.add(MaxPooling2D(pool_size=(2,2)))    #풀링 사이즈는 (2,2) -> 50% 줄어든다.\n",
        "model.add(Dropout(0.25))    #노드를 25% 꺼줌(계산 안함)\n",
        "#Dense 실행 -> 1차원으로 데이터 타입을 변경\n",
        "model.add(Flatten())    #(28, 28, 1) -> (28 * 28 * 1)로 변경\n",
        "model.add(Dense(128, activation='relu'))\n",
        "model.add(Dropout(0.5))\n",
        "model.add(Dense(10, activation='softmax'))\n",
        "model.summary()\n",
        "\n"
      ],
      "metadata": {
        "colab": {
          "base_uri": "https://localhost:8080/"
        },
        "id": "nB9AWUf65XFV",
        "outputId": "205f851e-6aa1-4931-b896-afdde7490a97"
      },
      "execution_count": 20,
      "outputs": [
        {
          "output_type": "stream",
          "name": "stdout",
          "text": [
            "Model: \"sequential_6\"\n",
            "_________________________________________________________________\n",
            " Layer (type)                Output Shape              Param #   \n",
            "=================================================================\n",
            " conv2d_7 (Conv2D)           (None, 26, 26, 32)        320       \n",
            "                                                                 \n",
            " conv2d_8 (Conv2D)           (None, 24, 24, 64)        18496     \n",
            "                                                                 \n",
            " max_pooling2d_2 (MaxPooling  (None, 12, 12, 64)       0         \n",
            " 2D)                                                             \n",
            "                                                                 \n",
            " dropout_4 (Dropout)         (None, 12, 12, 64)        0         \n",
            "                                                                 \n",
            " flatten_2 (Flatten)         (None, 9216)              0         \n",
            "                                                                 \n",
            " dense_8 (Dense)             (None, 128)               1179776   \n",
            "                                                                 \n",
            " dropout_5 (Dropout)         (None, 128)               0         \n",
            "                                                                 \n",
            " dense_9 (Dense)             (None, 10)                1290      \n",
            "                                                                 \n",
            "=================================================================\n",
            "Total params: 1,199,882\n",
            "Trainable params: 1,199,882\n",
            "Non-trainable params: 0\n",
            "_________________________________________________________________\n"
          ]
        }
      ]
    },
    {
      "cell_type": "code",
      "source": [
        "#모델 컴파일, 실행\n",
        "#딥러닝 모델 실행\n",
        "model.compile(loss='categorical_crossentropy', optimizer='adam', metrics=['accuracy'])\n",
        "\n",
        "#model 최적화를 위한 설정\n",
        "model_path='./data/model/MNIST_CNN.hdf5'\n",
        "checkpointer = ModelCheckpoint(filepath=model_path, monitor='val_loss', verbose=1, save_best_only=True)\n",
        "early_stopping = EarlyStopping(monitor='val_loss', patience=10)\n",
        "hist = model.fit(X_train, y_train, epochs=2000, validation_split=0.25, batch_size=200, verbose=0,\n",
        "                 callbacks=[early_stopping, checkpointer])\n",
        "\n",
        "#테스트 정확도 출력\n",
        "print('Test accuracy : ', model.evaluate(X_test, y_test)[1])"
      ],
      "metadata": {
        "colab": {
          "base_uri": "https://localhost:8080/"
        },
        "id": "gvEaRNF77Yl0",
        "outputId": "0eb5f9dc-d881-4ccb-e935-989d07f0fb65"
      },
      "execution_count": 21,
      "outputs": [
        {
          "output_type": "stream",
          "name": "stdout",
          "text": [
            "\n",
            "Epoch 1: val_loss improved from inf to 0.07094, saving model to ./data/model/MNIST_CNN.hdf5\n",
            "\n",
            "Epoch 2: val_loss improved from 0.07094 to 0.05749, saving model to ./data/model/MNIST_CNN.hdf5\n",
            "\n",
            "Epoch 3: val_loss improved from 0.05749 to 0.05416, saving model to ./data/model/MNIST_CNN.hdf5\n",
            "\n",
            "Epoch 4: val_loss improved from 0.05416 to 0.04365, saving model to ./data/model/MNIST_CNN.hdf5\n",
            "\n",
            "Epoch 5: val_loss improved from 0.04365 to 0.04276, saving model to ./data/model/MNIST_CNN.hdf5\n",
            "\n",
            "Epoch 6: val_loss did not improve from 0.04276\n",
            "\n",
            "Epoch 7: val_loss did not improve from 0.04276\n",
            "\n",
            "Epoch 8: val_loss improved from 0.04276 to 0.04046, saving model to ./data/model/MNIST_CNN.hdf5\n",
            "\n",
            "Epoch 9: val_loss did not improve from 0.04046\n",
            "\n",
            "Epoch 10: val_loss improved from 0.04046 to 0.04018, saving model to ./data/model/MNIST_CNN.hdf5\n",
            "\n",
            "Epoch 11: val_loss improved from 0.04018 to 0.03866, saving model to ./data/model/MNIST_CNN.hdf5\n",
            "\n",
            "Epoch 12: val_loss did not improve from 0.03866\n",
            "\n",
            "Epoch 13: val_loss did not improve from 0.03866\n",
            "\n",
            "Epoch 14: val_loss did not improve from 0.03866\n",
            "\n",
            "Epoch 15: val_loss did not improve from 0.03866\n",
            "\n",
            "Epoch 16: val_loss did not improve from 0.03866\n",
            "\n",
            "Epoch 17: val_loss did not improve from 0.03866\n",
            "\n",
            "Epoch 18: val_loss did not improve from 0.03866\n",
            "\n",
            "Epoch 19: val_loss did not improve from 0.03866\n",
            "\n",
            "Epoch 20: val_loss did not improve from 0.03866\n",
            "\n",
            "Epoch 21: val_loss did not improve from 0.03866\n",
            "313/313 [==============================] - 8s 26ms/step - loss: 0.0329 - accuracy: 0.9921\n",
            "Test accuracy :  0.9921000003814697\n"
          ]
        }
      ]
    },
    {
      "cell_type": "code",
      "source": [
        "#실행된 결과를 그래프로 표현\n",
        "\n",
        "y_vloss = hist.history['val_loss']   #검증된 자료의 오차\n",
        "y_loss = hist.history['loss']    #학습셋의 오차\n",
        "\n",
        "x_len = np.arange(len(y_loss))\n",
        "plt.plot(x_len, y_vloss, marker='.', c='r', label='Test loss')\n",
        "plt.plot(x_len, y_loss, marker='.', c='b', label='Train loss')\n",
        "plt.legend()\n",
        "plt.xlabel('epoch')\n",
        "plt.ylabel('loss')\n",
        "plt.show()"
      ],
      "metadata": {
        "colab": {
          "base_uri": "https://localhost:8080/",
          "height": 449
        },
        "id": "2UrJKk52CVL-",
        "outputId": "f636f533-d2a9-4c27-df6d-1bcfc5e1d056"
      },
      "execution_count": 22,
      "outputs": [
        {
          "output_type": "display_data",
          "data": {
            "text/plain": [
              "<Figure size 640x480 with 1 Axes>"
            ],
            "image/png": "[encoded data removed]"
          },
          "metadata": {}
        }
      ]
    },
    {
      "cell_type": "code",
      "source": [
        "#X_test의 처음 이미지의 클래스 확인\n",
        "print(model.predict(X_test[0].reshape(1,28,28,1)), y_test[0])\n",
        "\n",
        "plt.imshow(X_test[0])\n",
        "plt.show()"
      ],
      "metadata": {
        "colab": {
          "base_uri": "https://localhost:8080/",
          "height": 484
        },
        "id": "7X0Xrnpgged1",
        "outputId": "a2f22f45-c815-4782-b212-0cbdf7c31eb0"
      },
      "execution_count": 25,
      "outputs": [
        {
          "output_type": "stream",
          "name": "stdout",
          "text": [
            "1/1 [==============================] - 0s 35ms/step\n",
            "[[4.1791193e-13 5.6285801e-12 2.9891180e-11 2.8099739e-10 2.7082820e-16\n",
            "  5.6524275e-17 5.1880768e-21 1.0000000e+00 3.4526516e-13 1.7495954e-09]] [0. 0. 0. 0. 0. 0. 0. 1. 0. 0.]\n"
          ]
        },
        {
          "output_type": "display_data",
          "data": {
            "text/plain": [
              "<Figure size 640x480 with 1 Axes>"
            ],
            "image/png": "[encoded data removed]"
          },
          "metadata": {}
        }
      ]
    }
  ]
}