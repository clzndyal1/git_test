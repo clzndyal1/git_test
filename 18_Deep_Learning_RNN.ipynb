{
  "nbformat": 4,
  "nbformat_minor": 0,
  "metadata": {
    "colab": {
      "provenance": [],
      "authorship_tag": "ABX9TyM7IMGEJFe7FPmoYJUhMJsD",
      "include_colab_link": true
    },
    "kernelspec": {
      "name": "python3",
      "display_name": "Python 3"
    },
    "language_info": {
      "name": "python"
    }
  },
  "cells": [
    {
      "cell_type": "markdown",
      "metadata": {
        "id": "view-in-github",
        "colab_type": "text"
      },
      "source": [
        "<a href=\"https://colab.research.google.com/github/clzndyal1/git_test/blob/master/18_Deep_Learning_RNN.ipynb\" target=\"_parent\"><img src=\"https://colab.research.google.com/assets/colab-badge.svg\" alt=\"Open In Colab\"/></a>"
      ]
    },
    {
      "cell_type": "code",
      "execution_count": 14,
      "metadata": {
        "id": "rYOOsGkSlTrm"
      },
      "outputs": [],
      "source": [
        "from tensorflow.keras.models import Sequential, load_model\n",
        "from tensorflow.keras.layers import Dense, Dropout, Flatten, Conv2D, MaxPooling2D, Embedding, LSTM, Activation, Conv1D, MaxPooling1D\n",
        "from sklearn.model_selection import KFold\n",
        "from sklearn.model_selection import train_test_split\n",
        "from tensorflow.keras.callbacks import ModelCheckpoint\n",
        "from tensorflow.keras.callbacks import EarlyStopping\n",
        "from tensorflow.keras.datasets import mnist, reuters, imdb\n",
        "from tensorflow.keras.utils import to_categorical  #one-hot encoding과 같은 결과 반환\n",
        "from tensorflow.keras.preprocessing.text import text_to_word_sequence, Tokenizer\n",
        "from tensorflow.keras.preprocessing.sequence import pad_sequences\n",
        "from tensorflow.keras.preprocessing import sequence\n",
        "\n",
        "import numpy as np, array\n",
        "import pandas as pd\n",
        "import matplotlib.pyplot as plt\n",
        "import seaborn as sns\n",
        "import sys"
      ]
    },
    {
      "cell_type": "code",
      "source": [
        "#로이터 뉴스 데이터 load, 뉴스기사, 분류\n",
        "(X_train, y_train), (X_test, y_test) = reuters.load_data(num_words=1000, test_split=0.2)"
      ],
      "metadata": {
        "id": "5doouRG5rly7"
      },
      "execution_count": 2,
      "outputs": []
    },
    {
      "cell_type": "code",
      "source": [
        "category = np.max(y_train) + 1\n",
        "print(category, '카테고리')\n",
        "print(len(X_train), '학습용 뉴스기사')\n",
        "print(len(X_test), '테스트용 뉴스기사')\n",
        "print(X_train[0])"
      ],
      "metadata": {
        "colab": {
          "base_uri": "https://localhost:8080/"
        },
        "id": "RX7yw3n_r8MX",
        "outputId": "97814a52-73f5-434c-eec9-efadc9b2ef26"
      },
      "execution_count": 3,
      "outputs": [
        {
          "output_type": "stream",
          "name": "stdout",
          "text": [
            "46 카테고리\n",
            "8982 학습용 뉴스기사\n",
            "2246 테스트용 뉴스기사\n",
            "[1, 2, 2, 8, 43, 10, 447, 5, 25, 207, 270, 5, 2, 111, 16, 369, 186, 90, 67, 7, 89, 5, 19, 102, 6, 19, 124, 15, 90, 67, 84, 22, 482, 26, 7, 48, 4, 49, 8, 864, 39, 209, 154, 6, 151, 6, 83, 11, 15, 22, 155, 11, 15, 7, 48, 9, 2, 2, 504, 6, 258, 6, 272, 11, 15, 22, 134, 44, 11, 15, 16, 8, 197, 2, 90, 67, 52, 29, 209, 30, 32, 132, 6, 109, 15, 17, 12]\n"
          ]
        }
      ]
    },
    {
      "cell_type": "code",
      "source": [
        "from tensorflow.keras.preprocessing import sequence\n",
        "\n",
        "X_train = sequence.pad_sequences(X_train, maxlen=100)\n",
        "X_test = sequence.pad_sequences(X_test, maxlen=100)\n",
        "\n",
        "y= to_categorical(y_train, category)\n"
      ],
      "metadata": {
        "id": "Ef81pySssbfq"
      },
      "execution_count": 5,
      "outputs": []
    },
    {
      "cell_type": "code",
      "source": [
        "y_train[:5]\n",
        "y[:5]"
      ],
      "metadata": {
        "colab": {
          "base_uri": "https://localhost:8080/"
        },
        "id": "PNGFg80Qzso8",
        "outputId": "8f0a8226-aa24-4222-d70c-d9f85a29ac68"
      },
      "execution_count": 45,
      "outputs": [
        {
          "output_type": "execute_result",
          "data": {
            "text/plain": [
              "array([[0., 0., 0., 1., 0., 0., 0., 0., 0., 0., 0., 0., 0., 0., 0., 0.,\n",
              "        0., 0., 0., 0., 0., 0., 0., 0., 0., 0., 0., 0., 0., 0., 0., 0.,\n",
              "        0., 0., 0., 0., 0., 0., 0., 0., 0., 0., 0., 0., 0., 0.],\n",
              "       [0., 0., 0., 0., 0., 0., 0., 0., 0., 0., 1., 0., 0., 0., 0., 0.,\n",
              "        0., 0., 0., 0., 0., 0., 0., 0., 0., 0., 0., 0., 0., 0., 0., 0.,\n",
              "        0., 0., 0., 0., 0., 0., 0., 0., 0., 0., 0., 0., 0., 0.],\n",
              "       [0., 1., 0., 0., 0., 0., 0., 0., 0., 0., 0., 0., 0., 0., 0., 0.,\n",
              "        0., 0., 0., 0., 0., 0., 0., 0., 0., 0., 0., 0., 0., 0., 0., 0.,\n",
              "        0., 0., 0., 0., 0., 0., 0., 0., 0., 0., 0., 0., 0., 0.],\n",
              "       [0., 0., 0., 0., 1., 0., 0., 0., 0., 0., 0., 0., 0., 0., 0., 0.,\n",
              "        0., 0., 0., 0., 0., 0., 0., 0., 0., 0., 0., 0., 0., 0., 0., 0.,\n",
              "        0., 0., 0., 0., 0., 0., 0., 0., 0., 0., 0., 0., 0., 0.],\n",
              "       [0., 0., 0., 0., 1., 0., 0., 0., 0., 0., 0., 0., 0., 0., 0., 0.,\n",
              "        0., 0., 0., 0., 0., 0., 0., 0., 0., 0., 0., 0., 0., 0., 0., 0.,\n",
              "        0., 0., 0., 0., 0., 0., 0., 0., 0., 0., 0., 0., 0., 0.]],\n",
              "      dtype=float32)"
            ]
          },
          "metadata": {},
          "execution_count": 45
        }
      ]
    },
    {
      "cell_type": "code",
      "source": [
        "model = Sequential()\n",
        "model.add(Embedding(1000, 100))   #1000, 기사당 단어수 100\n",
        "model.add(LSTM(100, activation ='tanh'))   #LSTM으로 RNN구현\n",
        "model.add(Dense(46, activation = 'softmax'))\n",
        "model.summary()\n",
        "\n",
        "model.compile(loss ='sparse_categorical_crossentropy', optimizer='adam', metrics=['accuracy'])   #sparse = one_hot 인코딩을 안쓰고 1,2,3,4로 쓰겠다. 문자는 안돼고 숫자만 가능\n",
        "\n",
        "\n",
        "early_stopping = EarlyStopping(monitor='val_loss', patience=5)\n",
        "hist = model.fit(X_train, y_train, epochs=200, batch_size=20, validation_data=(X_test, y_test), callbacks=[early_stopping])\n",
        "\n",
        "print('\\n Test Accurracy : %.4d' %(model.evaluate(X_test, y_test)[1]))"
      ],
      "metadata": {
        "colab": {
          "base_uri": "https://localhost:8080/"
        },
        "id": "Dt8iJvVAuD3d",
        "outputId": "a4def0e6-3598-410f-9c70-3e454a60f7eb"
      },
      "execution_count": 7,
      "outputs": [
        {
          "output_type": "stream",
          "name": "stdout",
          "text": [
            "Model: \"sequential_1\"\n",
            "_________________________________________________________________\n",
            " Layer (type)                Output Shape              Param #   \n",
            "=================================================================\n",
            " embedding_1 (Embedding)     (None, None, 100)         100000    \n",
            "                                                                 \n",
            " lstm_1 (LSTM)               (None, 100)               80400     \n",
            "                                                                 \n",
            " dense_1 (Dense)             (None, 46)                4646      \n",
            "                                                                 \n",
            "=================================================================\n",
            "Total params: 185,046\n",
            "Trainable params: 185,046\n",
            "Non-trainable params: 0\n",
            "_________________________________________________________________\n",
            "Epoch 1/200\n",
            "450/450 [==============================] - 47s 98ms/step - loss: 2.1756 - accuracy: 0.4383 - val_loss: 1.8206 - val_accuracy: 0.5329\n",
            "Epoch 2/200\n",
            "450/450 [==============================] - 42s 93ms/step - loss: 1.7438 - accuracy: 0.5488 - val_loss: 1.7460 - val_accuracy: 0.5677\n",
            "Epoch 3/200\n",
            "450/450 [==============================] - 42s 94ms/step - loss: 1.6310 - accuracy: 0.5836 - val_loss: 1.6123 - val_accuracy: 0.5828\n",
            "Epoch 4/200\n",
            "450/450 [==============================] - 44s 97ms/step - loss: 1.5198 - accuracy: 0.6038 - val_loss: 1.5398 - val_accuracy: 0.6144\n",
            "Epoch 5/200\n",
            "450/450 [==============================] - 41s 91ms/step - loss: 1.3585 - accuracy: 0.6496 - val_loss: 1.3876 - val_accuracy: 0.6451\n",
            "Epoch 6/200\n",
            "450/450 [==============================] - 41s 91ms/step - loss: 1.2379 - accuracy: 0.6784 - val_loss: 1.3057 - val_accuracy: 0.6696\n",
            "Epoch 7/200\n",
            "450/450 [==============================] - 41s 91ms/step - loss: 1.1299 - accuracy: 0.7063 - val_loss: 1.2289 - val_accuracy: 0.6870\n",
            "Epoch 8/200\n",
            "450/450 [==============================] - 43s 96ms/step - loss: 1.0380 - accuracy: 0.7310 - val_loss: 1.1890 - val_accuracy: 0.6999\n",
            "Epoch 9/200\n",
            "450/450 [==============================] - 42s 94ms/step - loss: 0.9493 - accuracy: 0.7573 - val_loss: 1.1262 - val_accuracy: 0.7213\n",
            "Epoch 10/200\n",
            "450/450 [==============================] - 41s 91ms/step - loss: 0.8694 - accuracy: 0.7818 - val_loss: 1.1079 - val_accuracy: 0.7204\n",
            "Epoch 11/200\n",
            "450/450 [==============================] - 41s 92ms/step - loss: 0.7940 - accuracy: 0.8003 - val_loss: 1.1388 - val_accuracy: 0.7208\n",
            "Epoch 12/200\n",
            "450/450 [==============================] - 44s 97ms/step - loss: 0.7282 - accuracy: 0.8191 - val_loss: 1.1478 - val_accuracy: 0.7222\n",
            "Epoch 13/200\n",
            "450/450 [==============================] - 41s 92ms/step - loss: 0.6778 - accuracy: 0.8317 - val_loss: 1.1708 - val_accuracy: 0.7204\n",
            "Epoch 14/200\n",
            "450/450 [==============================] - 41s 92ms/step - loss: 0.6256 - accuracy: 0.8409 - val_loss: 1.1600 - val_accuracy: 0.7275\n",
            "Epoch 15/200\n",
            "450/450 [==============================] - 43s 94ms/step - loss: 0.5764 - accuracy: 0.8560 - val_loss: 1.1965 - val_accuracy: 0.7226\n",
            "71/71 [==============================] - 2s 27ms/step - loss: 1.1965 - accuracy: 0.7226\n",
            "\n",
            " Test Accurracy : 0000\n"
          ]
        }
      ]
    },
    {
      "cell_type": "code",
      "source": [
        "y_loss = hist.history['loss']\n",
        "y_vloss = hist.history['val_loss']\n",
        "\n",
        "x_len = np.arange(len(y_loss))\n",
        "plt.plot(x_len, y_vloss, marker ='.', c='r', label='Testset_loss')\n",
        "plt.plot(x_len, y_loss, marker ='.', c='b', label='Trainset_loss')\n",
        "\n",
        "plt.legend(loc='upper right')\n",
        "plt.grid()\n",
        "plt.xlabel('eposh')\n",
        "plt.ylabel('loss')\n",
        "plt.show()"
      ],
      "metadata": {
        "colab": {
          "base_uri": "https://localhost:8080/",
          "height": 449
        },
        "id": "aF2y2cEXywZk",
        "outputId": "f3d3853b-547d-4d37-a98e-ac1d1dc09386"
      },
      "execution_count": 10,
      "outputs": [
        {
          "output_type": "display_data",
          "data": {
            "text/plain": [
              "<Figure size 640x480 with 1 Axes>"
            ],
            "image/png": "[encoded data removed]"
          },
          "metadata": {}
        }
      ]
    }
  ]
}