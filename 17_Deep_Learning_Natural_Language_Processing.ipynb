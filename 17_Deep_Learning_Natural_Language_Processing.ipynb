{
  "nbformat": 4,
  "nbformat_minor": 0,
  "metadata": {
    "colab": {
      "provenance": [],
      "authorship_tag": "ABX9TyMW25i8/rpqKjt84Kj8CmWC",
      "include_colab_link": true
    },
    "kernelspec": {
      "name": "python3",
      "display_name": "Python 3"
    },
    "language_info": {
      "name": "python"
    }
  },
  "cells": [
    {
      "cell_type": "markdown",
      "metadata": {
        "id": "view-in-github",
        "colab_type": "text"
      },
      "source": [
        "<a href=\"https://colab.research.google.com/github/clzndyal1/git_test/blob/master/17_Deep_Learning_Natural_Language_Processing.ipynb\" target=\"_parent\"><img src=\"https://colab.research.google.com/assets/colab-badge.svg\" alt=\"Open In Colab\"/></a>"
      ]
    },
    {
      "cell_type": "code",
      "execution_count": 92,
      "metadata": {
        "id": "ccZvQr24z_Sa"
      },
      "outputs": [],
      "source": [
        "from tensorflow.keras.models import Sequential, load_model\n",
        "from tensorflow.keras.layers import Dense, Dropout, Flatten, Conv2D, MaxPooling2D, Embedding\n",
        "from sklearn.model_selection import KFold\n",
        "from sklearn.model_selection import train_test_split\n",
        "from tensorflow.keras.callbacks import ModelCheckpoint\n",
        "from tensorflow.keras.callbacks import EarlyStopping\n",
        "from tensorflow.keras.datasets import mnist\n",
        "from tensorflow.keras.utils import to_categorical  #one-hot encoding과 같은 결과 반환\n",
        "from tensorflow.keras.preprocessing.text import text_to_word_sequence, Tokenizer\n",
        "from tensorflow.keras.preprocessing.sequence import pad_sequences\n",
        "\n",
        "import numpy as np, array\n",
        "import pandas as pd\n",
        "import matplotlib.pyplot as plt\n",
        "import seaborn as sns\n",
        "import sys"
      ]
    },
    {
      "cell_type": "code",
      "source": [
        "#텍스트의 토큰화\n",
        "\n",
        "text = '해보지 않으면 해낼 수 없다'\n",
        "\n",
        "result = text_to_word_sequence(text)\n",
        "print('\\n원문:\\n', text)\n",
        "print('\\n토큰화\\n', result)"
      ],
      "metadata": {
        "colab": {
          "base_uri": "https://localhost:8080/"
        },
        "id": "OwNUudby6FQP",
        "outputId": "755c028c-2277-4042-8bc9-48ad044e81a5"
      },
      "execution_count": 93,
      "outputs": [
        {
          "output_type": "stream",
          "name": "stdout",
          "text": [
            "\n",
            "원문:\n",
            " 해보지 않으면 해낼 수 없다\n",
            "\n",
            "토큰화\n",
            " ['해보지', '않으면', '해낼', '수', '없다']\n"
          ]
        }
      ]
    },
    {
      "cell_type": "code",
      "source": [
        "docs = ['먼저 텍스트의 각 단어를 나누어 토큰화합니다.',\n",
        "        '텍스트의 단어로 토큰화해야 딥러닝에서 인식됩니다.',\n",
        "        '토큰화한 결과는 딥러닝에서 사용할 수 있습니다.']"
      ],
      "metadata": {
        "id": "qEf4WCRP9_1N"
      },
      "execution_count": 94,
      "outputs": []
    },
    {
      "cell_type": "code",
      "source": [
        "token = Tokenizer()   #토큰화 인스턴스 생성\n",
        "token.fit_on_texts(docs)\n",
        "\n",
        "print('\\n단어 카운트 :\\n', token.word_counts )   #토큰한 단어의 빈도수를 계산, 튜플 리스트로 반환\n",
        "print('\\n문장 카운트 :\\n', token.word_counts['텍스트의'], '회나옴')\n",
        "print('\\n문장 카운트 :\\n', token.document_count)   #텍스트의 단어가 몇번 나오는지 출력\n",
        "print('\\n각 단어가 몇 개의 문장에 포함되어 있는가 :\\n', token.word_docs)   #단어가 몇개의 문장에 나오는지\n",
        "print('\\n각 단어에 매겨진 인덱스 값 :\\n', token.word_index)   #단어에 새겨진 인덱스값\n",
        "print(token.texts_to_sequences(docs))   #각 단어의 인덱스만 추출"
      ],
      "metadata": {
        "colab": {
          "base_uri": "https://localhost:8080/"
        },
        "id": "9U45OEdY-cXe",
        "outputId": "50fb7ae6-722d-4718-abce-5a0eec6ccc65"
      },
      "execution_count": 95,
      "outputs": [
        {
          "output_type": "stream",
          "name": "stdout",
          "text": [
            "\n",
            "단어 카운트 :\n",
            " OrderedDict([('먼저', 1), ('텍스트의', 2), ('각', 1), ('단어를', 1), ('나누어', 1), ('토큰화합니다', 1), ('단어로', 1), ('토큰화해야', 1), ('딥러닝에서', 2), ('인식됩니다', 1), ('토큰화한', 1), ('결과는', 1), ('사용할', 1), ('수', 1), ('있습니다', 1)])\n",
            "\n",
            "문장 카운트 :\n",
            " 2 회나옴\n",
            "\n",
            "문장 카운트 :\n",
            " 3\n",
            "\n",
            "각 단어가 몇 개의 문장에 포함되어 있는가 :\n",
            " defaultdict(<class 'int'>, {'먼저': 1, '각': 1, '나누어': 1, '텍스트의': 2, '단어를': 1, '토큰화합니다': 1, '단어로': 1, '딥러닝에서': 2, '인식됩니다': 1, '토큰화해야': 1, '있습니다': 1, '사용할': 1, '수': 1, '결과는': 1, '토큰화한': 1})\n",
            "\n",
            "각 단어에 매겨진 인덱스 값 :\n",
            " {'텍스트의': 1, '딥러닝에서': 2, '먼저': 3, '각': 4, '단어를': 5, '나누어': 6, '토큰화합니다': 7, '단어로': 8, '토큰화해야': 9, '인식됩니다': 10, '토큰화한': 11, '결과는': 12, '사용할': 13, '수': 14, '있습니다': 15}\n",
            "[[3, 1, 4, 5, 6, 7], [1, 8, 9, 2, 10], [11, 12, 2, 13, 14, 15]]\n"
          ]
        }
      ]
    },
    {
      "cell_type": "code",
      "source": [
        "text = '오랫동안 꿈꾸는 이는 그 꿈을 닮아간다'\n",
        "\n",
        "token = Tokenizer()\n",
        "token.fit_on_texts([text])\n",
        "print(token.word_index)"
      ],
      "metadata": {
        "colab": {
          "base_uri": "https://localhost:8080/"
        },
        "id": "Z74mPjvvi6bc",
        "outputId": "212f3326-8618-4bbd-b631-1be297c535ab"
      },
      "execution_count": 96,
      "outputs": [
        {
          "output_type": "stream",
          "name": "stdout",
          "text": [
            "{'오랫동안': 1, '꿈꾸는': 2, '이는': 3, '그': 4, '꿈을': 5, '닮아간다': 6}\n"
          ]
        }
      ]
    },
    {
      "cell_type": "code",
      "source": [
        "x = token.texts_to_sequences([text])\n",
        "print(x)"
      ],
      "metadata": {
        "colab": {
          "base_uri": "https://localhost:8080/"
        },
        "id": "Wr3RUg6bmIE5",
        "outputId": "af62755f-020c-4842-f916-be704908e45e"
      },
      "execution_count": 97,
      "outputs": [
        {
          "output_type": "stream",
          "name": "stdout",
          "text": [
            "[[1, 2, 3, 4, 5, 6]]\n"
          ]
        }
      ]
    },
    {
      "cell_type": "code",
      "source": [
        "word_size = len(token.word_index) +1\n",
        "x = to_categorical(x, num_classes=word_size)\n",
        "\n",
        "print(x)"
      ],
      "metadata": {
        "colab": {
          "base_uri": "https://localhost:8080/"
        },
        "id": "8Qm2Z3nJna0J",
        "outputId": "c9a37e7f-4979-4ffe-d0ef-f2ba26de0474"
      },
      "execution_count": 98,
      "outputs": [
        {
          "output_type": "stream",
          "name": "stdout",
          "text": [
            "[[[0. 1. 0. 0. 0. 0. 0.]\n",
            "  [0. 0. 1. 0. 0. 0. 0.]\n",
            "  [0. 0. 0. 1. 0. 0. 0.]\n",
            "  [0. 0. 0. 0. 1. 0. 0.]\n",
            "  [0. 0. 0. 0. 0. 1. 0.]\n",
            "  [0. 0. 0. 0. 0. 0. 1.]]]\n"
          ]
        }
      ]
    },
    {
      "cell_type": "code",
      "source": [
        "#영화 리뷰가 긍정인지? 부정인지 예측\n",
        "\n",
        "model = Sequential()\n",
        "model.add(Embedding(16,4))"
      ],
      "metadata": {
        "id": "onv1QwP8uVhL"
      },
      "execution_count": 99,
      "outputs": []
    },
    {
      "cell_type": "code",
      "source": [
        "docs = ['너무 재밋네요', '최고에요', '참 잘 만든 영화예요', '추천하고 싶은 영화입니다.', '한 번 더 보고싶네요',\n",
        "        '글쎄요', '별로에요', '생각보다 지루하네요', '연기가 어색해요', '재미없어요']\n",
        "\n",
        "classes = np.array([1,1,1,1,1,0,0,0,0,0])\n",
        "\n",
        "#1.토큰화, 데이터 전처리 과정\n",
        "token = Tokenizer()\n",
        "token.fit_on_texts(docs)   #리뷰 단어 토큰화\n",
        "print('단어의 인덱스 :',token.word_index, len(token.word_index))   #총 단어수\n",
        "\n",
        "#토큰한 결과를 가지고 인덱스로 문장을 변환\n",
        "x = token.texts_to_sequences(docs)   #문장의 단어를 token한 결과단어의 인덱스로 변환해준다.\n",
        "print(x)\n",
        "\n",
        "#각 문장의 단어의 갯수가 다름 -> 문장 단어의 갯수를 동일하게 적용\n",
        "padd_x = pad_sequences(x, 4)   #x를 각 문장의 단어 수가 4개로 통일 : 단어 수가 작으면 앞에 0 추가, 크면 자름\n",
        "print(padd_x)"
      ],
      "metadata": {
        "colab": {
          "base_uri": "https://localhost:8080/"
        },
        "id": "zu0KWUAnungO",
        "outputId": "73dd8613-962b-4a9f-b757-1c285ca16867"
      },
      "execution_count": 100,
      "outputs": [
        {
          "output_type": "stream",
          "name": "stdout",
          "text": [
            "단어의 인덱스 : {'너무': 1, '재밋네요': 2, '최고에요': 3, '참': 4, '잘': 5, '만든': 6, '영화예요': 7, '추천하고': 8, '싶은': 9, '영화입니다': 10, '한': 11, '번': 12, '더': 13, '보고싶네요': 14, '글쎄요': 15, '별로에요': 16, '생각보다': 17, '지루하네요': 18, '연기가': 19, '어색해요': 20, '재미없어요': 21} 21\n",
            "[[1, 2], [3], [4, 5, 6, 7], [8, 9, 10], [11, 12, 13, 14], [15], [16], [17, 18], [19, 20], [21]]\n",
            "[[ 0  0  1  2]\n",
            " [ 0  0  0  3]\n",
            " [ 4  5  6  7]\n",
            " [ 0  8  9 10]\n",
            " [11 12 13 14]\n",
            " [ 0  0  0 15]\n",
            " [ 0  0  0 16]\n",
            " [ 0  0 17 18]\n",
            " [ 0  0 19 20]\n",
            " [ 0  0  0 21]]\n"
          ]
        }
      ]
    },
    {
      "cell_type": "code",
      "source": [
        "#딥러닝 모델 생성\n",
        "\n",
        "model = Sequential()\n",
        "model.add(Embedding(len(token.word_index)+1, 8, input_length=4))   #(총단어수, 임베딩사이즈, 입력 단어수)\n",
        "model.add(Flatten())   #다음 레이어를 위해 1차원 배열로 변환\n",
        "model.add(Dense(1, activation='sigmoid'))   #긍정 또는 부정이므로 활성함수는 시그모이드\n",
        "model.summary()"
      ],
      "metadata": {
        "colab": {
          "base_uri": "https://localhost:8080/"
        },
        "id": "tY-wKKGDzjSE",
        "outputId": "b8871c6f-cb7e-4171-c7ad-afaa53f4f1b4"
      },
      "execution_count": 101,
      "outputs": [
        {
          "output_type": "stream",
          "name": "stdout",
          "text": [
            "Model: \"sequential_10\"\n",
            "_________________________________________________________________\n",
            " Layer (type)                Output Shape              Param #   \n",
            "=================================================================\n",
            " embedding_8 (Embedding)     (None, 4, 8)              176       \n",
            "                                                                 \n",
            " flatten_2 (Flatten)         (None, 32)                0         \n",
            "                                                                 \n",
            " dense_2 (Dense)             (None, 1)                 33        \n",
            "                                                                 \n",
            "=================================================================\n",
            "Total params: 209\n",
            "Trainable params: 209\n",
            "Non-trainable params: 0\n",
            "_________________________________________________________________\n"
          ]
        }
      ]
    },
    {
      "cell_type": "code",
      "source": [
        "#모델 컴파일\n",
        "model.compile(optimizer='adam', loss='binary_crossentropy', metrics=['accuracy'])\n",
        "#모델 실행\n",
        "model.fit(padd_x, classes, epochs=20)\n",
        "print('Accuracy = ', model.evaluate(padd_x, classes)[1])"
      ],
      "metadata": {
        "colab": {
          "base_uri": "https://localhost:8080/"
        },
        "id": "g-J0InxE1rx6",
        "outputId": "b5b18542-c798-4bc7-861d-7cce9fe405d1"
      },
      "execution_count": 102,
      "outputs": [
        {
          "output_type": "stream",
          "name": "stdout",
          "text": [
            "Epoch 1/20\n",
            "1/1 [==============================] - 1s 673ms/step - loss: 0.7084 - accuracy: 0.2000\n",
            "Epoch 2/20\n",
            "1/1 [==============================] - 0s 10ms/step - loss: 0.7060 - accuracy: 0.3000\n",
            "Epoch 3/20\n",
            "1/1 [==============================] - 0s 20ms/step - loss: 0.7036 - accuracy: 0.4000\n",
            "Epoch 4/20\n",
            "1/1 [==============================] - 0s 19ms/step - loss: 0.7012 - accuracy: 0.4000\n",
            "Epoch 5/20\n",
            "1/1 [==============================] - 0s 14ms/step - loss: 0.6988 - accuracy: 0.4000\n",
            "Epoch 6/20\n",
            "1/1 [==============================] - 0s 11ms/step - loss: 0.6965 - accuracy: 0.4000\n",
            "Epoch 7/20\n",
            "1/1 [==============================] - 0s 13ms/step - loss: 0.6941 - accuracy: 0.4000\n",
            "Epoch 8/20\n",
            "1/1 [==============================] - 0s 10ms/step - loss: 0.6918 - accuracy: 0.5000\n",
            "Epoch 9/20\n",
            "1/1 [==============================] - 0s 17ms/step - loss: 0.6895 - accuracy: 0.5000\n",
            "Epoch 10/20\n",
            "1/1 [==============================] - 0s 11ms/step - loss: 0.6871 - accuracy: 0.7000\n",
            "Epoch 11/20\n",
            "1/1 [==============================] - 0s 10ms/step - loss: 0.6848 - accuracy: 0.7000\n",
            "Epoch 12/20\n",
            "1/1 [==============================] - 0s 12ms/step - loss: 0.6825 - accuracy: 0.8000\n",
            "Epoch 13/20\n",
            "1/1 [==============================] - 0s 11ms/step - loss: 0.6802 - accuracy: 0.8000\n",
            "Epoch 14/20\n",
            "1/1 [==============================] - 0s 11ms/step - loss: 0.6780 - accuracy: 0.9000\n",
            "Epoch 15/20\n",
            "1/1 [==============================] - 0s 14ms/step - loss: 0.6757 - accuracy: 0.9000\n",
            "Epoch 16/20\n",
            "1/1 [==============================] - 0s 10ms/step - loss: 0.6734 - accuracy: 0.9000\n",
            "Epoch 17/20\n",
            "1/1 [==============================] - 0s 11ms/step - loss: 0.6711 - accuracy: 0.9000\n",
            "Epoch 18/20\n",
            "1/1 [==============================] - 0s 11ms/step - loss: 0.6689 - accuracy: 0.9000\n",
            "Epoch 19/20\n",
            "1/1 [==============================] - 0s 10ms/step - loss: 0.6666 - accuracy: 0.9000\n",
            "Epoch 20/20\n",
            "1/1 [==============================] - 0s 10ms/step - loss: 0.6643 - accuracy: 1.0000\n",
            "1/1 [==============================] - 0s 149ms/step - loss: 0.6621 - accuracy: 1.0000\n",
            "Accuracy =  1.0\n"
          ]
        }
      ]
    }
  ]
}