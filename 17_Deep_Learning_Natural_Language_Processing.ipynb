{
  "nbformat": 4,
  "nbformat_minor": 0,
  "metadata": {
    "colab": {
      "provenance": [],
      "authorship_tag": "ABX9TyP4tDCPezMOO/AsjqtHAnF1",
      "include_colab_link": true
    },
    "kernelspec": {
      "name": "python3",
      "display_name": "Python 3"
    },
    "language_info": {
      "name": "python"
    }
  },
  "cells": [
    {
      "cell_type": "markdown",
      "metadata": {
        "id": "view-in-github",
        "colab_type": "text"
      },
      "source": [
        "<a href=\"https://colab.research.google.com/github/clzndyal1/git_test/blob/master/17_Deep_Learning_Natural_Language_Processing.ipynb\" target=\"_parent\"><img src=\"https://colab.research.google.com/assets/colab-badge.svg\" alt=\"Open In Colab\"/></a>"
      ]
    },
    {
      "cell_type": "code",
      "execution_count": null,
      "metadata": {
        "id": "ccZvQr24z_Sa"
      },
      "outputs": [],
      "source": [
        "from tensorflow.keras.models import Sequential, load_model\n",
        "from tensorflow.keras.layers import Dense, Dropout, Flatten, Conv2D, MaxPooling2D\n",
        "from sklearn.model_selection import KFold\n",
        "from sklearn.model_selection import train_test_split\n",
        "from tensorflow.keras.callbacks import ModelCheckpoint\n",
        "from tensorflow.keras.callbacks import EarlyStopping\n",
        "from tensorflow.keras.datasets import mnist\n",
        "from tensorflow.keras.utils import to_categorical  #one-hot encoding과 같은 결과 반환\n",
        "from tensorflow.keras.preprocessing.text import text_to_word_sequence, Tokenizer\n",
        "\n",
        "import numpy as np\n",
        "import pandas as pd\n",
        "import matplotlib.pyplot as plt\n",
        "import seaborn as sns\n",
        "import sys"
      ]
    },
    {
      "cell_type": "code",
      "source": [
        "#텍스트의 토큰화\n",
        "\n",
        "text = '해보지 않으면 해낼 수 없다'\n",
        "\n",
        "result = text_to_word_sequence(text)\n",
        "print('\\n원문:\\n', text)\n",
        "print('\\n토큰화\\n', result)"
      ],
      "metadata": {
        "colab": {
          "base_uri": "https://localhost:8080/"
        },
        "id": "OwNUudby6FQP",
        "outputId": "2de2a19e-0cc6-4aba-e547-5e462759be99"
      },
      "execution_count": null,
      "outputs": [
        {
          "output_type": "stream",
          "name": "stdout",
          "text": [
            "\n",
            "원문:\n",
            " 해보지 않으면 해낼 수 없다\n",
            "\n",
            "토큰화\n",
            " ['해보지', '않으면', '해낼', '수', '없다']\n"
          ]
        }
      ]
    },
    {
      "cell_type": "code",
      "source": [
        "docs = ['먼저 텍스트의 각 단어를 나누어 토큰화합니다.',\n",
        "        '텍스트의 단어로 토큰화해야 딥러닝에서 인식됩니다.',\n",
        "        '토큰화한 결과는 딥러닝에서 사용할 수 있습니다.']"
      ],
      "metadata": {
        "id": "qEf4WCRP9_1N"
      },
      "execution_count": null,
      "outputs": []
    },
    {
      "cell_type": "code",
      "source": [
        "token = Tokenizer()   #토큰화 인스턴스 생성\n",
        "token.fit_on_texts(docs)\n",
        "\n",
        "print('\\n단어 카운트 :\\n', token.word_counts )   #토큰한 단어의 빈도수를 반환\n",
        "print('\\n문장 카운트 :\\n', token.document_count)   #문장수를 반환\n",
        "print('\\n각 단어가 몇 개의 문장에 포함되어 있는가 :\\n', token.word_docs)   #단어가 몇개의 문장에 나오는지\n",
        "print('\\n각 단어에 매겨진 인덱스 값 :\\n', token.word_index)   #단어에 새겨진 인덱스"
      ],
      "metadata": {
        "colab": {
          "base_uri": "https://localhost:8080/"
        },
        "id": "9U45OEdY-cXe",
        "outputId": "ba2020bc-1ec5-4962-b597-75665dbb5c1b"
      },
      "execution_count": null,
      "outputs": [
        {
          "output_type": "stream",
          "name": "stdout",
          "text": [
            "\n",
            "단어 카운트 :\n",
            " OrderedDict([('먼저', 1), ('텍스트의', 2), ('각', 1), ('단어를', 1), ('나누어', 1), ('토큰화합니다', 1), ('단어로', 1), ('토큰화해야', 1), ('딥러닝에서', 2), ('인식됩니다', 1), ('토큰화한', 1), ('결과는', 1), ('사용할', 1), ('수', 1), ('있습니다', 1)])\n",
            "\n",
            "문장 카운트 :\n",
            " 3\n",
            "\n",
            "각 단어가 몇 개의 문장에 포함되어 있는가 :\n",
            " defaultdict(<class 'int'>, {'나누어': 1, '각': 1, '텍스트의': 2, '토큰화합니다': 1, '단어를': 1, '먼저': 1, '토큰화해야': 1, '인식됩니다': 1, '딥러닝에서': 2, '단어로': 1, '토큰화한': 1, '결과는': 1, '수': 1, '사용할': 1, '있습니다': 1})\n",
            "\n",
            "각 단어에 매겨진 인덱스 값 :\n",
            " {'텍스트의': 1, '딥러닝에서': 2, '먼저': 3, '각': 4, '단어를': 5, '나누어': 6, '토큰화합니다': 7, '단어로': 8, '토큰화해야': 9, '인식됩니다': 10, '토큰화한': 11, '결과는': 12, '사용할': 13, '수': 14, '있습니다': 15}\n"
          ]
        }
      ]
    }
  ]
}